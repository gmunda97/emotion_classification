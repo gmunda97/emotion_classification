{
 "cells": [
  {
   "attachments": {},
   "cell_type": "markdown",
   "metadata": {},
   "source": [
    "## Some exploratory analysis"
   ]
  },
  {
   "cell_type": "code",
   "execution_count": 5,
   "metadata": {},
   "outputs": [
    {
     "name": "stderr",
     "output_type": "stream",
     "text": [
      "[nltk_data] Downloading package wordnet to\n",
      "[nltk_data]     /Users/giacomomunda/nltk_data...\n",
      "[nltk_data]   Package wordnet is already up-to-date!\n",
      "[nltk_data] Downloading package stopwords to\n",
      "[nltk_data]     /Users/giacomomunda/nltk_data...\n",
      "[nltk_data]   Package stopwords is already up-to-date!\n"
     ]
    },
    {
     "data": {
      "text/plain": [
       "True"
      ]
     },
     "execution_count": 5,
     "metadata": {},
     "output_type": "execute_result"
    }
   ],
   "source": [
    "import pandas as pd\n",
    "import nltk\n",
    "import string \n",
    "from typing import List\n",
    "from sklearn.feature_extraction.text import TfidfVectorizer\n",
    "from sklearn.svm import SVC\n",
    "from sklearn.metrics import accuracy_score, f1_score, matthews_corrcoef\n",
    "from nltk.stem import WordNetLemmatizer\n",
    "from nltk.corpus import stopwords\n",
    "from nltk.tokenize import word_tokenize\n",
    "nltk.download('wordnet')\n",
    "nltk.download('stopwords')"
   ]
  },
  {
   "cell_type": "code",
   "execution_count": 2,
   "metadata": {},
   "outputs": [],
   "source": [
    "df_train = pd.read_csv('../Datasets/data_train.csv')\n",
    "df_val = pd.read_csv('../Datasets/data_val.csv')\n",
    "df_test = pd.read_csv('../Datasets/data_test.csv')"
   ]
  },
  {
   "cell_type": "code",
   "execution_count": 3,
   "metadata": {},
   "outputs": [
    {
     "name": "stdout",
     "output_type": "stream",
     "text": [
      "joy         5362\n",
      "sadness     4665\n",
      "anger       2159\n",
      "fear        1937\n",
      "love        1304\n",
      "surprise     572\n",
      "Name: Emotion, dtype: int64\n",
      "\n",
      "\n",
      "joy         704\n",
      "sadness     549\n",
      "anger       275\n",
      "fear        212\n",
      "love        178\n",
      "surprise     81\n",
      "Name: Emotion, dtype: int64\n",
      "\n",
      "\n",
      "joy         695\n",
      "sadness     580\n",
      "anger       275\n",
      "fear        224\n",
      "love        159\n",
      "surprise     66\n",
      "Name: Emotion, dtype: int64\n"
     ]
    }
   ],
   "source": [
    "print(df_train[\"Emotion\"].value_counts())\n",
    "print(\"\\n\")\n",
    "print(df_val[\"Emotion\"].value_counts())\n",
    "print(\"\\n\")\n",
    "print(df_test[\"Emotion\"].value_counts())"
   ]
  },
  {
   "attachments": {},
   "cell_type": "markdown",
   "metadata": {},
   "source": [
    "## The baseline model: a Support Vector Machine"
   ]
  },
  {
   "cell_type": "code",
   "execution_count": 4,
   "metadata": {},
   "outputs": [],
   "source": [
    "class SVMClassifier2:\n",
    "    \"\"\"\n",
    "    This classifier is trained using a Support Vector Machine (SVM)\n",
    "    \"\"\"\n",
    "\n",
    "    def __init__(self, training_examples: List):\n",
    "        # convert the data into lists\n",
    "        X = training_examples[\"Text\"].tolist()\n",
    "        y = training_examples[\"Emotion\"].tolist()\n",
    "\n",
    "        # perform lemmatization on the input data\n",
    "        X = self._lemmatize(X)\n",
    "\n",
    "        # remove stopwords and punctuation\n",
    "        X = self._remove_stopwords_and_punctuation(X)\n",
    "\n",
    "        # convert the text into numerical values using TfidfVectorizer\n",
    "        self.vectorizer = TfidfVectorizer()\n",
    "        X_transformed = self.vectorizer.fit_transform(X)\n",
    "\n",
    "        # create a classifier and train it on the data\n",
    "        self.classifier = SVC(kernel='linear', probability=True)\n",
    "        self.classifier.fit(X_transformed, y)\n",
    "\n",
    "    def _lemmatize(self, sentences):\n",
    "        lemmatizer = WordNetLemmatizer()\n",
    "        return [' '.join([lemmatizer.lemmatize(word) for word in sentence.split()]) for sentence in sentences]\n",
    "\n",
    "    def _remove_stopwords_and_punctuation(self, sentences):\n",
    "        stopwords_set = set(stopwords.words('english'))\n",
    "        punctuation_set = set(string.punctuation)\n",
    "        return [' '.join([word.lower() for word in word_tokenize(sentence) if (word.lower() not in stopwords_set and word.lower() not in punctuation_set)]) for sentence in sentences]\n",
    "\n",
    "    def classify(self, text):\n",
    "        # perform lemmatization on the input text\n",
    "        text = self._lemmatize([text])[0]\n",
    "\n",
    "        # remove stopwords and punctuation\n",
    "        text = self._remove_stopwords_and_punctuation([text])[0]\n",
    "\n",
    "        # Vectorizing the text using the same vectorizer\n",
    "        vectorized_text = self.vectorizer.transform([text])\n",
    "        # Classifying the vectorized text:\n",
    "        return self.classifier.predict(vectorized_text)\n"
   ]
  },
  {
   "cell_type": "code",
   "execution_count": 6,
   "metadata": {},
   "outputs": [
    {
     "name": "stdout",
     "output_type": "stream",
     "text": [
      "Accuracy score: 0.8869\n",
      "F1 score: 0.8856\n",
      "Matthews correlation coefficient: 0.8499\n"
     ]
    }
   ],
   "source": [
    "train_data = df_train#[:1000]\n",
    "test_data = df_test#[:100]\n",
    "val_data = df_val \n",
    "\n",
    "# instantiate and train the SVMClassifier\n",
    "svm_classifier = SVMClassifier2(train_data)\n",
    "\n",
    "# classify the test data and compute the accuracy score\n",
    "y_true = test_data[\"Emotion\"].tolist()\n",
    "y_pred = [svm_classifier.classify(text) for text in test_data[\"Text\"].tolist()]\n",
    "accuracy = accuracy_score(y_true, y_pred)\n",
    "f1 = f1_score(y_true, y_pred, average='weighted')\n",
    "matthews = matthews_corrcoef(y_true, y_pred)\n",
    "\n",
    "print(f\"Accuracy score: {accuracy:.4f}\")\n",
    "print(f\"F1 score: {f1:.4f}\")\n",
    "print(f\"Matthews correlation coefficient: {matthews:.4f}\")"
   ]
  },
  {
   "cell_type": "code",
   "execution_count": 25,
   "metadata": {},
   "outputs": [
    {
     "name": "stdout",
     "output_type": "stream",
     "text": [
      "The predicted emotion for 'Yesterday I went to the supermarket and bought some fruits, they were delicious!' is '['joy']'\n"
     ]
    }
   ],
   "source": [
    "# classify a sentence\n",
    "text = \"Yesterday I went to the supermarket and bought some fruits, they were delicious!\"\n",
    "#text = input(\"Enter a sentence: \")\n",
    "emotion = svm_classifier.classify(text)\n",
    "\n",
    "print(f\"The predicted emotion for '{text}' is '{emotion}'\")"
   ]
  },
  {
   "attachments": {},
   "cell_type": "markdown",
   "metadata": {},
   "source": [
    "**Results with linear kernel on the test data:**\n",
    "\n",
    "- Accuracy score **before lemmatization**: 0.8839\n",
    "\n",
    "- Accuracy score **after lemmatization**: 0.8824\n",
    "\n",
    "- Accuracy score **after lemmatization and stopwords + punctuation removal**: 0.8869\n",
    "\n",
    "- F1 Score: 0.8856\n",
    "\n",
    "- MCC: 0.8499\n",
    "\n",
    "**Results with rbf kernel on the validation data:**\n",
    "\n",
    "- Accuracy score: 0.8674\n",
    "\n",
    "**Results with poly kernel on the validation data:**\n",
    "\n",
    "- Accuracy score: 0.6173\n",
    "\n",
    "**Results with linear kernel on the validation data:**\n",
    "\n",
    "- Accuracy score: 0.8919 (Best one so far)\n",
    "\n",
    "- F1 Score: 0.8911"
   ]
  },
  {
   "cell_type": "code",
   "execution_count": null,
   "metadata": {},
   "outputs": [],
   "source": []
  }
 ],
 "metadata": {
  "kernelspec": {
   "display_name": "emotion-venv",
   "language": "python",
   "name": "python3"
  },
  "language_info": {
   "codemirror_mode": {
    "name": "ipython",
    "version": 3
   },
   "file_extension": ".py",
   "mimetype": "text/x-python",
   "name": "python",
   "nbconvert_exporter": "python",
   "pygments_lexer": "ipython3",
   "version": "3.10.1"
  },
  "orig_nbformat": 4
 },
 "nbformat": 4,
 "nbformat_minor": 2
}
