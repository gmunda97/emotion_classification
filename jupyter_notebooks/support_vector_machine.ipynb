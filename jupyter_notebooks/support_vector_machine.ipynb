{
 "cells": [
  {
   "attachments": {},
   "cell_type": "markdown",
   "metadata": {},
   "source": [
    "## Some exploratory analysis"
   ]
  },
  {
   "cell_type": "code",
   "execution_count": 23,
   "metadata": {},
   "outputs": [
    {
     "name": "stderr",
     "output_type": "stream",
     "text": [
      "[nltk_data] Downloading package wordnet to\n",
      "[nltk_data]     /Users/giacomomunda/nltk_data...\n",
      "[nltk_data]   Package wordnet is already up-to-date!\n",
      "[nltk_data] Downloading package stopwords to\n",
      "[nltk_data]     /Users/giacomomunda/nltk_data...\n",
      "[nltk_data]   Package stopwords is already up-to-date!\n"
     ]
    },
    {
     "data": {
      "text/plain": [
       "True"
      ]
     },
     "execution_count": 23,
     "metadata": {},
     "output_type": "execute_result"
    }
   ],
   "source": [
    "import pandas as pd\n",
    "import nltk\n",
    "import string \n",
    "import pickle\n",
    "import matplotlib.pyplot as plt\n",
    "import seaborn as sns\n",
    "import numpy as np\n",
    "from typing import List\n",
    "from sklearn.feature_extraction.text import TfidfVectorizer\n",
    "from sklearn.svm import SVC\n",
    "from sklearn.metrics import accuracy_score, f1_score, matthews_corrcoef, confusion_matrix, ConfusionMatrixDisplay\n",
    "from nltk.stem import WordNetLemmatizer\n",
    "from nltk.corpus import stopwords\n",
    "from nltk.tokenize import word_tokenize\n",
    "nltk.download('wordnet')\n",
    "nltk.download('stopwords')"
   ]
  },
  {
   "cell_type": "code",
   "execution_count": 2,
   "metadata": {},
   "outputs": [],
   "source": [
    "df_train = pd.read_csv('../Datasets/data_train.csv')\n",
    "df_val = pd.read_csv('../Datasets/data_val.csv')\n",
    "df_test = pd.read_csv('../Datasets/data_test.csv')"
   ]
  },
  {
   "cell_type": "code",
   "execution_count": 3,
   "metadata": {},
   "outputs": [
    {
     "name": "stdout",
     "output_type": "stream",
     "text": [
      "joy         5362\n",
      "sadness     4665\n",
      "anger       2159\n",
      "fear        1937\n",
      "love        1304\n",
      "surprise     572\n",
      "Name: Emotion, dtype: int64\n",
      "\n",
      "\n",
      "joy         704\n",
      "sadness     549\n",
      "anger       275\n",
      "fear        212\n",
      "love        178\n",
      "surprise     81\n",
      "Name: Emotion, dtype: int64\n",
      "\n",
      "\n",
      "joy         695\n",
      "sadness     580\n",
      "anger       275\n",
      "fear        224\n",
      "love        159\n",
      "surprise     66\n",
      "Name: Emotion, dtype: int64\n"
     ]
    }
   ],
   "source": [
    "print(df_train[\"Emotion\"].value_counts())\n",
    "print(\"\\n\")\n",
    "print(df_val[\"Emotion\"].value_counts())\n",
    "print(\"\\n\")\n",
    "print(df_test[\"Emotion\"].value_counts())"
   ]
  },
  {
   "attachments": {},
   "cell_type": "markdown",
   "metadata": {},
   "source": [
    "## The baseline model: a Support Vector Machine"
   ]
  },
  {
   "cell_type": "code",
   "execution_count": 3,
   "metadata": {},
   "outputs": [],
   "source": [
    "class SVMClassifier2:\n",
    "    \"\"\"\n",
    "    This classifier is trained using a Support Vector Machine (SVM)\n",
    "    \"\"\"\n",
    "\n",
    "    def __init__(self, training_examples: List):\n",
    "        # convert the data into lists\n",
    "        X = training_examples[\"Text\"].tolist()\n",
    "        y = training_examples[\"Emotion\"].tolist()\n",
    "\n",
    "        # perform lemmatization on the input data\n",
    "        X = self._lemmatize(X)\n",
    "\n",
    "        # remove stopwords and punctuation\n",
    "        X = self._remove_stopwords_and_punctuation(X)\n",
    "\n",
    "        # convert the text into numerical values using TfidfVectorizer\n",
    "        self.vectorizer = TfidfVectorizer()\n",
    "        X_transformed = self.vectorizer.fit_transform(X)\n",
    "\n",
    "        # create a classifier and train it on the data\n",
    "        self.classifier = SVC(kernel='linear', probability=True)\n",
    "        self.classifier.fit(X_transformed, y)\n",
    "\n",
    "    def _lemmatize(self, sentences):\n",
    "        lemmatizer = WordNetLemmatizer()\n",
    "        return [' '.join([lemmatizer.lemmatize(word) for word in sentence.split()]) for sentence in sentences]\n",
    "\n",
    "    def _remove_stopwords_and_punctuation(self, sentences):\n",
    "        stopwords_set = set(stopwords.words('english'))\n",
    "        punctuation_set = set(string.punctuation)\n",
    "        return [' '.join([word.lower() for word in word_tokenize(sentence) if (word.lower() not in stopwords_set and word.lower() not in punctuation_set)]) for sentence in sentences]\n",
    "\n",
    "    def classify(self, text):\n",
    "        # perform lemmatization on the input text\n",
    "        text = self._lemmatize([text])[0]\n",
    "\n",
    "        # remove stopwords and punctuation\n",
    "        text = self._remove_stopwords_and_punctuation([text])[0]\n",
    "\n",
    "        # Vectorizing the text using the same vectorizer\n",
    "        vectorized_text = self.vectorizer.transform([text])\n",
    "        # Classifying the vectorized text:\n",
    "        return self.classifier.predict(vectorized_text)\n"
   ]
  },
  {
   "cell_type": "code",
   "execution_count": 9,
   "metadata": {},
   "outputs": [
    {
     "name": "stdout",
     "output_type": "stream",
     "text": [
      "Accuracy score: 0.8869\n",
      "F1 score: 0.8856\n",
      "Matthews correlation coefficient: 0.8499\n"
     ]
    }
   ],
   "source": [
    "train_data = df_train#[:1000]\n",
    "test_data = df_test#[:100]\n",
    "val_data = df_val \n",
    "\n",
    "# instantiate and train the SVMClassifier\n",
    "svm_classifier = SVMClassifier2(train_data)\n",
    "\n",
    "# classify the test data and compute the accuracy score\n",
    "y_true = test_data[\"Emotion\"].tolist()\n",
    "y_pred = [svm_classifier.classify(text) for text in test_data[\"Text\"].tolist()]\n",
    "accuracy = accuracy_score(y_true, y_pred)\n",
    "f1 = f1_score(y_true, y_pred, average='weighted')\n",
    "matthews = matthews_corrcoef(y_true, y_pred)\n",
    "\n",
    "print(f\"Accuracy score: {accuracy:.4f}\")\n",
    "print(f\"F1 score: {f1:.4f}\")\n",
    "print(f\"Matthews correlation coefficient: {matthews:.4f}\")"
   ]
  },
  {
   "cell_type": "code",
   "execution_count": 12,
   "metadata": {},
   "outputs": [
    {
     "data": {
      "text/plain": [
       "array(['sadness'], dtype='<U8')"
      ]
     },
     "execution_count": 12,
     "metadata": {},
     "output_type": "execute_result"
    }
   ],
   "source": []
  },
  {
   "cell_type": "code",
   "execution_count": 25,
   "metadata": {},
   "outputs": [
    {
     "name": "stdout",
     "output_type": "stream",
     "text": [
      "The predicted emotion for 'Yesterday I went to the supermarket and bought some fruits, they were delicious!' is '['joy']'\n"
     ]
    }
   ],
   "source": [
    "# classify a sentence\n",
    "text = \"Yesterday I went to the supermarket and bought some fruits, they were delicious!\"\n",
    "#text = input(\"Enter a sentence: \")\n",
    "emotion = svm_classifier.classify(text)\n",
    "\n",
    "print(f\"The predicted emotion for '{text}' is '{emotion}'\")"
   ]
  },
  {
   "attachments": {},
   "cell_type": "markdown",
   "metadata": {},
   "source": [
    "**Results with linear kernel on the test data:**\n",
    "\n",
    "- Accuracy score **before lemmatization**: 0.8839\n",
    "\n",
    "- Accuracy score **after lemmatization**: 0.8824\n",
    "\n",
    "- Accuracy score **after lemmatization and stopwords + punctuation removal**: 0.8869\n",
    "\n",
    "- F1 Score: 0.8856\n",
    "\n",
    "- MCC: 0.8499\n",
    "\n",
    "**Results with rbf kernel on the validation data:**\n",
    "\n",
    "- Accuracy score: 0.8674\n",
    "\n",
    "**Results with poly kernel on the validation data:**\n",
    "\n",
    "- Accuracy score: 0.6173\n",
    "\n",
    "**Results with linear kernel on the validation data:**\n",
    "\n",
    "- Accuracy score: 0.8919 (Best one so far)\n",
    "\n",
    "- F1 Score: 0.8911"
   ]
  },
  {
   "attachments": {},
   "cell_type": "markdown",
   "metadata": {},
   "source": [
    "## Confusion Matrix"
   ]
  },
  {
   "cell_type": "code",
   "execution_count": 25,
   "metadata": {},
   "outputs": [
    {
     "data": {
      "image/png": "[encoded data removed]",
      "text/plain": [
       "<Figure size 500x500 with 1 Axes>"
      ]
     },
     "metadata": {},
     "output_type": "display_data"
    }
   ],
   "source": [
    "# classify the test data and compute the predicted labels\n",
    "y_true = test_data[\"Emotion\"].tolist()\n",
    "y_pred = [svm_classifier.classify(text) for text in test_data[\"Text\"].tolist()]\n",
    "label_names = svm_classifier.classifier.classes_.tolist() \n",
    "\n",
    "# compute the confusion matrix\n",
    "cm = confusion_matrix(y_true, y_pred, labels=label_names)\n",
    "# plot the confusion matrix\n",
    "fig, ax = plt.subplots(figsize=(5,5))\n",
    "im = ax.imshow(cm, cmap='Blues')\n",
    "\n",
    "# set the tick labels\n",
    "ax.set_xticks(np.arange(len(label_names)))\n",
    "ax.set_yticks(np.arange(len(label_names)))\n",
    "ax.set_xticklabels(label_names, rotation=90)\n",
    "ax.set_yticklabels(label_names)\n",
    "ax.set_xlabel(\"Predicted label\")\n",
    "ax.set_ylabel(\"True label\")\n",
    "\n",
    "# add annotations to the plot\n",
    "for i in range(len(label_names)):\n",
    "    for j in range(len(label_names)):\n",
    "        text = ax.text(j, i, cm[i, j], ha=\"center\", va=\"center\", color=\"white\" if cm[i, j] > len(y_true)/len(label_names)**2 else \"black\")\n",
    "\n",
    "plt.show()"
   ]
  },
  {
   "cell_type": "code",
   "execution_count": 17,
   "metadata": {},
   "outputs": [
    {
     "data": {
      "text/plain": [
       "['anger', 'fear', 'joy', 'love', 'sadness', 'surprise']"
      ]
     },
     "execution_count": 17,
     "metadata": {},
     "output_type": "execute_result"
    }
   ],
   "source": [
    "label_names"
   ]
  },
  {
   "attachments": {},
   "cell_type": "markdown",
   "metadata": {},
   "source": [
    "### Saving the model with pickle"
   ]
  },
  {
   "cell_type": "code",
   "execution_count": 8,
   "metadata": {},
   "outputs": [],
   "source": [
    "train_data2 = df_train\n",
    "svm_classifier2 = SVMClassifier2(train_data2)\n",
    "\n",
    "# save the trained classifier\n",
    "with open('svm_classifier.pkl', 'wb') as file:\n",
    "    pickle.dump(svm_classifier2, file)"
   ]
  },
  {
   "attachments": {},
   "cell_type": "markdown",
   "metadata": {},
   "source": [
    "**Performing inference with new data (any kind of text data you want)**"
   ]
  },
  {
   "cell_type": "code",
   "execution_count": 7,
   "metadata": {},
   "outputs": [
    {
     "name": "stdout",
     "output_type": "stream",
     "text": [
      "'Today I went to the supermarket and bought some fruits, they were delicious!' | Predicted emotion: ['joy']\n",
      "'I hate this movie' | Predicted emotion: ['sadness']\n",
      "'I was very pleased to see my daughter today' | Predicted emotion: ['joy']\n",
      "'Why are you so angry?' | Predicted emotion: ['anger']\n",
      "'Studying computational linguistics can be hard, but very satisfying!' | Predicted emotion: ['sadness']\n",
      "'What are you doing for Christmas? I hope you have a great time' | Predicted emotion: ['joy']\n"
     ]
    }
   ],
   "source": [
    "# load the trained classifier\n",
    "with open('svm_classifier.pkl', 'rb') as file:\n",
    "    svm_classifier = pickle.load(file)\n",
    "\n",
    "new_data = [\"Today I went to the supermarket and bought some fruits, they were delicious!\", \n",
    "            \"I hate this movie\", \n",
    "            \"I was very pleased to see my daughter today\",\n",
    "            \"Why are you so angry?\",\n",
    "            \"Studying computational linguistics can be hard, but very satisfying!\",\n",
    "            \"What are you doing for Christmas? I hope you have a great time\"]\n",
    "\n",
    "# perform inference on new data\n",
    "y_pred = [svm_classifier.classify(text) for text in new_data]#[\"Text\"].tolist()]\n",
    "\n",
    "# iterate over the new data and print the predicted emotion for each sentence\n",
    "for sentence, emotion in zip(new_data, y_pred):\n",
    "    print(f\"'{sentence}' | Predicted emotion: {emotion}\")\n",
    "\n",
    "\n"
   ]
  },
  {
   "cell_type": "code",
   "execution_count": null,
   "metadata": {},
   "outputs": [],
   "source": []
  }
 ],
 "metadata": {
  "kernelspec": {
   "display_name": "emotion-venv",
   "language": "python",
   "name": "python3"
  },
  "language_info": {
   "codemirror_mode": {
    "name": "ipython",
    "version": 3
   },
   "file_extension": ".py",
   "mimetype": "text/x-python",
   "name": "python",
   "nbconvert_exporter": "python",
   "pygments_lexer": "ipython3",
   "version": "3.10.1"
  },
  "orig_nbformat": 4,
  "vscode": {
   "interpreter": {
    "hash": "82128f1098ee8c8551fd194f43df67eb68a13f656e96bd23bad959ec8adfb09d"
   }
  }
 },
 "nbformat": 4,
 "nbformat_minor": 2
}
